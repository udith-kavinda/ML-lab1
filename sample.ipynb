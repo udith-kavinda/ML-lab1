{
 "cells": [
  {
   "cell_type": "code",
   "execution_count": 12,
   "id": "4aa3eb9a-dc92-4359-9c9e-c8df7b6091d6",
   "metadata": {},
   "outputs": [],
   "source": [
    "import numpy as np\n",
    "import pandas as pd"
   ]
  },
  {
   "cell_type": "code",
   "execution_count": 13,
   "id": "ec9f62c8-5b76-4436-9338-acbc4d5584dc",
   "metadata": {},
   "outputs": [],
   "source": [
    "from sklearn.linear_model import LinearRegression\n",
    "from sklearn.metrics import mean_squared_error,r2_score"
   ]
  },
  {
   "cell_type": "code",
   "execution_count": 14,
   "id": "e49c26f4-249e-4026-9084-e173c09d9d0f",
   "metadata": {},
   "outputs": [],
   "source": [
    "df1 = pd.read_csv('190001A_lab1_train.csv')\n",
    "df2 = pd.read_csv('190001A_lab1_test.csv')\n",
    "df3 = pd.read_csv('expected.csv')"
   ]
  },
  {
   "cell_type": "code",
   "execution_count": 15,
   "id": "f9fb9ee9-5247-4f45-96f9-3aad075dd226",
   "metadata": {},
   "outputs": [],
   "source": [
    "df1_x = df1.drop(columns=[\"y\"])\n",
    "df1_y = df1[\"y\"]"
   ]
  },
  {
   "cell_type": "code",
   "execution_count": 16,
   "id": "0a288e49-8bde-4077-b076-a4982e022396",
   "metadata": {},
   "outputs": [],
   "source": [
    "df2_x = df2\n",
    "df2_y = df3[\"y\"]"
   ]
  },
  {
   "cell_type": "code",
   "execution_count": null,
   "id": "6f420886-4518-432a-90a3-90269625fcd5",
   "metadata": {},
   "outputs": [],
   "source": [
    "lr = LinearRegression()\n",
    "lr.fit(df1_x,df1_y)"
   ]
  },
  {
   "cell_type": "code",
   "execution_count": null,
   "id": "7686f6cf-6138-4964-8a24-ef5e3305e3da",
   "metadata": {},
   "outputs": [],
   "source": [
    "df1_y_p=lr.predict(df1_x)\n",
    "mean_squared_error(df1_y,df1_y_p)"
   ]
  },
  {
   "cell_type": "code",
   "execution_count": 19,
   "id": "66abec2d-a64e-49b9-90f5-f85017f94e8b",
   "metadata": {},
   "outputs": [],
   "source": [
    "y_pred=lr.predict(df2_x)"
   ]
  },
  {
   "cell_type": "code",
   "execution_count": null,
   "id": "bab63f2d-04fe-40b7-a8aa-efcb26e65024",
   "metadata": {},
   "outputs": [],
   "source": [
    "r2_score(df2_y,y_pred)"
   ]
  },
  {
   "cell_type": "code",
   "execution_count": null,
   "id": "e66ad1ae-7416-44d0-8ffb-7cf8609e7971",
   "metadata": {},
   "outputs": [],
   "source": [
    "mean_squared_error(df2_y,y_pred)"
   ]
  },
  {
   "cell_type": "code",
   "execution_count": null,
   "id": "c4bd87e8-b1d6-489b-b8cf-5b64168e755c",
   "metadata": {},
   "outputs": [],
   "source": [
    "rmse = np.sqrt(mean_squared_error(df2_y,y_pred))\n",
    "rmse"
   ]
  }
 ],
 "metadata": {
  "kernelspec": {
   "display_name": "Python 3",
   "language": "python",
   "name": "python3"
  },
  "language_info": {
   "codemirror_mode": {
    "name": "ipython",
    "version": 3
   },
   "file_extension": ".py",
   "mimetype": "text/x-python",
   "name": "python",
   "nbconvert_exporter": "python",
   "pygments_lexer": "ipython3",
   "version": "3.8.11"
  }
 },
 "nbformat": 4,
 "nbformat_minor": 5
}
